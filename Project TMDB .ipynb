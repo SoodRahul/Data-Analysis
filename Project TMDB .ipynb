{
 "cells": [
  {
   "cell_type": "markdown",
   "id": "26f84e5f",
   "metadata": {},
   "source": [
    "# Find the 'id' of the movie \"Andhadhun\""
   ]
  },
  {
   "cell_type": "code",
   "execution_count": 19,
   "id": "a27e843c",
   "metadata": {},
   "outputs": [
    {
     "name": "stdout",
     "output_type": "stream",
     "text": [
      "534780\n"
     ]
    }
   ],
   "source": [
    "#https://api.themoviedb.org/3/movie\n",
    "#be69c89a37932d753906fda34883c89c\n",
    "import requests\n",
    "from requests.auth import HTTPBasicAuth\n",
    "response=requests.get(\"https://api.themoviedb.org/3/search/movie\",params={\"api_key\":\"be69c89a37932d753906fda34883c89c\",\"query\":\"Andhadhun\"})\n",
    "pyData=(response.json())\n",
    "print(pyData['results'][0]['id'])"
   ]
  },
  {
   "cell_type": "markdown",
   "id": "e135c50e",
   "metadata": {},
   "source": [
    "# Fetch the company id company 'Marvel Studios'"
   ]
  },
  {
   "cell_type": "code",
   "execution_count": 21,
   "id": "290bd3f6",
   "metadata": {},
   "outputs": [
    {
     "name": "stdout",
     "output_type": "stream",
     "text": [
      "420\n"
     ]
    }
   ],
   "source": [
    "import requests\n",
    "from requests.auth import HTTPBasicAuth\n",
    "response=requests.get(\"https://api.themoviedb.org/3/search/company\",params={\"api_key\":\"be69c89a37932d753906fda34883c89c\",\"query\":\"Marvel Studios\"})\n",
    "pyData=(response.json())\n",
    "print(pyData['results'][0]['id'])"
   ]
  },
  {
   "cell_type": "markdown",
   "id": "7a76e5db",
   "metadata": {},
   "source": [
    "# Find the vote count and vote average of the movie \"3 Idiots\""
   ]
  },
  {
   "cell_type": "code",
   "execution_count": 32,
   "id": "4b9cdc57",
   "metadata": {},
   "outputs": [
    {
     "name": "stdout",
     "output_type": "stream",
     "text": [
      "1940 8\n"
     ]
    }
   ],
   "source": [
    "import requests\n",
    "from requests.auth import HTTPBasicAuth\n",
    "response=requests.get(\"https://api.themoviedb.org/3/search/movie\",params={\"api_key\":\"be69c89a37932d753906fda34883c89c\",\"query\":\"3 Idiots\"})\n",
    "pyData=(response.json())\n",
    "\n",
    "stats=pyData['results'][0]\n",
    "print(stats['vote_count'],stats['vote_average'])"
   ]
  },
  {
   "cell_type": "markdown",
   "id": "a40b0280",
   "metadata": {},
   "source": [
    "# Fetch the names of top 5 similar movies to 'Inception'"
   ]
  },
  {
   "cell_type": "code",
   "execution_count": 92,
   "id": "ca2d7089",
   "metadata": {},
   "outputs": [
    {
     "name": "stdout",
     "output_type": "stream",
     "text": [
      "Inception\n",
      "42\n",
      "Side Effects\n",
      "Captain Phillips\n",
      "Beautiful Creatures\n"
     ]
    }
   ],
   "source": [
    "import requests\n",
    "from requests.auth import HTTPBasicAuth\n",
    "response=requests.get(\"https://api.themoviedb.org/3/search/movie\",params={\"api_key\":\"be69c89a37932d753906fda34883c89c\",\"query\":\"Inception\"})\n",
    "pyData=(response.json())\n",
    "id_of_Inception=(pyData['results'][-2]['id'])\n",
    "\n",
    "\n",
    "response=requests.get(\"https://api.themoviedb.org/3/movie/{}/similar\".format(id_of_Inception),params={\"api_key\":\"be69c89a37932d753906fda34883c89c\"})\n",
    "pyData=(response.json())\n",
    "data=pyData['results'][:5]\n",
    "\n",
    "# data=sorted(data,key=lambda x:x['vote_count'],reverse=True)[:5]\n",
    "for i in data:\n",
    "    print(i['title'])\n"
   ]
  },
  {
   "cell_type": "markdown",
   "id": "150d6e08",
   "metadata": {},
   "source": [
    "# Top rated Movies from US"
   ]
  },
  {
   "cell_type": "code",
   "execution_count": 101,
   "id": "0a8f27b6",
   "metadata": {},
   "outputs": [
    {
     "name": "stdout",
     "output_type": "stream",
     "text": [
      "The Godfather - Drama Crime \n",
      "The Shawshank Redemption - Drama Crime \n",
      "The Godfather Part II - Drama Crime \n",
      "Schindler's List - Drama History War \n",
      "12 Angry Men - Drama \n",
      "The Green Mile - Fantasy Drama Crime \n",
      "Gabriel's Inferno: Part II - Romance \n",
      "The Dark Knight - Drama Action Crime Thriller \n",
      "Gabriel's Inferno - Romance \n",
      "Pulp Fiction - Thriller Crime \n"
     ]
    }
   ],
   "source": [
    "import requests\n",
    "from requests.auth import HTTPBasicAuth\n",
    "response=requests.get(\"https://api.themoviedb.org/3//movie/top_rated\",params={\"api_key\":\"be69c89a37932d753906fda34883c89c\",\"region\":\"US\"})\n",
    "pyData=(response.json())\n",
    "id_Arr=[]\n",
    "for i in pyData['results']:\n",
    "    if (i['original_language']) == \"en\":\n",
    "        (id_Arr.append(i['id']))\n",
    "for id in id_Arr[:10]: \n",
    "    response=requests.get(\"https://api.themoviedb.org/3//movie/{}\".format(id),params={\"api_key\":\"be69c89a37932d753906fda34883c89c\"})\n",
    "    pyData=(response.json())\n",
    "    genresArr=pyData['genres']\n",
    "    print(pyData['title'],'-',end=\" \")\n",
    "    for g in genresArr:\n",
    "        print(g['name'],end=\" \")\n",
    "    print()"
   ]
  },
  {
   "cell_type": "markdown",
   "id": "edffc43a",
   "metadata": {},
   "source": [
    "# Fetch the top rated english movies in the US region using the TMDb API. From the result, print the first 10 movies which have original language as english. Also print their genres."
   ]
  },
  {
   "cell_type": "code",
   "execution_count": 298,
   "id": "99031046",
   "metadata": {},
   "outputs": [
    {
     "name": "stdout",
     "output_type": "stream",
     "text": [
      "The Godfather - Drama, Crime, \n",
      "The Shawshank Redemption - Drama, Crime, \n",
      "The Godfather Part II - Drama, Crime, \n",
      "Schindler's List - Drama, History, War, \n",
      "12 Angry Men - Drama, \n",
      "The Green Mile - Fantasy, Drama, Crime, \n",
      "Gabriel's Inferno: Part II - Romance, \n",
      "The Dark Knight - Drama, Action, Crime, Thriller, \n",
      "Gabriel's Inferno - Romance, \n",
      "Pulp Fiction - Thriller, Crime, \n"
     ]
    }
   ],
   "source": [
    "import requests\n",
    "from requests.auth import HTTPBasicAuth\n",
    "response=requests.get(\"https://api.themoviedb.org/3/genre/movie/list\",params={\"api_key\":\"be69c89a37932d753906fda34883c89c\",\"region\":\"US\"})\n",
    "pyData=(response.json()['genres'])\n",
    "get_Genre={}\n",
    "for i in pyData:\n",
    "    get_Genre[i['id']]=i['name']\n",
    "\n",
    "    \n",
    "import requests\n",
    "from requests.auth import HTTPBasicAuth\n",
    "response=requests.get(\"https://api.themoviedb.org/3//movie/top_rated\",params={\"api_key\":\"be69c89a37932d753906fda34883c89c\",\"region\":\"US\"})\n",
    "pyData=(response.json()['results'])\n",
    "count=1\n",
    "for i in pyData:\n",
    "    if count == 11:\n",
    "        break\n",
    "    if i[\"original_language\"] == \"en\":\n",
    "        genres_id=i[\"genre_ids\"]\n",
    "        print(i['title'],\"-\",end=\" \")\n",
    "        for id in genres_id:\n",
    "            print(get_Genre[id],end=\", \")\n",
    "        print()\n",
    "        count+=1"
   ]
  },
  {
   "cell_type": "markdown",
   "id": "ff9e4b40",
   "metadata": {},
   "source": [
    "# Find the name and birthplace of the present most popular person according to TMDb API."
   ]
  },
  {
   "cell_type": "code",
   "execution_count": 2,
   "id": "dc3618c7",
   "metadata": {},
   "outputs": [
    {
     "name": "stdout",
     "output_type": "stream",
     "text": [
      "Aya Asahina Hyōgo Prefecture, Japan\n"
     ]
    }
   ],
   "source": [
    "import requests\n",
    "from requests.auth import HTTPBasicAuth\n",
    "response=requests.get(\"https://api.themoviedb.org/3/person/popular\",params={\"api_key\":\"be69c89a37932d753906fda34883c89c\"})\n",
    "popularID=(response.json()['results'][0]['id'])\n",
    "\n",
    "\n",
    "import requests\n",
    "from requests.auth import HTTPBasicAuth\n",
    "response=requests.get(\"https://api.themoviedb.org/3/person/{}\".format(popularID),params={\"api_key\":\"be69c89a37932d753906fda34883c89c\"})\n",
    "pyData=response.json()\n",
    "# print(pyData['id'])\n",
    "print(pyData['name'],pyData['place_of_birth'])"
   ]
  },
  {
   "cell_type": "markdown",
   "id": "d5c2b1ad",
   "metadata": {},
   "source": [
    "# Fetch the Instagram and Twitter handle of Indian Actress \"Alia Bhatt\""
   ]
  },
  {
   "cell_type": "code",
   "execution_count": 138,
   "id": "023271bb",
   "metadata": {},
   "outputs": [
    {
     "name": "stdout",
     "output_type": "stream",
     "text": [
      "aliaabhatt Aliaa08\n"
     ]
    }
   ],
   "source": [
    "import requests\n",
    "from requests.auth import HTTPBasicAuth\n",
    "response=requests.get(\"https://api.themoviedb.org/3/search/person\",params={\"api_key\":\"be69c89a37932d753906fda34883c89c\",\"query\":\"Alia Bhatt\"})\n",
    "aliaID=(response.json()['results'][-1]['id'])\n",
    "\n",
    "\n",
    "response=requests.get(\"https://api.themoviedb.org/3/person/{}/external_ids\".format(aliaID),params={\"api_key\":\"be69c89a37932d753906fda34883c89c\"})\n",
    "pyData=response.json()\n",
    "print(pyData['instagram_id'],pyData['twitter_id'])"
   ]
  },
  {
   "cell_type": "markdown",
   "id": "c53c4014",
   "metadata": {},
   "source": [
    "# Fetch the names of the character played by Tom Cruise in the movies:"
   ]
  },
  {
   "cell_type": "code",
   "execution_count": 162,
   "id": "1f29f91c",
   "metadata": {},
   "outputs": [
    {
     "name": "stdout",
     "output_type": "stream",
     "text": [
      "Lt. Pete 'Maverick' Mitchell\n",
      "Ethan Hunt\n",
      "Chief John Anderton\n",
      "Maj. William 'Bill' Cage\n"
     ]
    }
   ],
   "source": [
    "movies_arr=[\"Top Gun\",\n",
    "\"Mission: Impossible - Fallout\",\n",
    "\"Minority Report\",\n",
    "\"Edge of Tomorrow\"]\n",
    "\n",
    "answerDict=dict().fromkeys(movies_arr,None)\n",
    "\n",
    "\n",
    "import requests\n",
    "from requests.auth import HTTPBasicAuth\n",
    "response=requests.get(\"https://api.themoviedb.org/3/search/person\",params={\"api_key\":\"be69c89a37932d753906fda34883c89c\",\"query\":\"Tom Cruise\"})\n",
    "tomCruiseID=response.json()['results'][0]['id']\n",
    "\n",
    "response=requests.get(\"https://api.themoviedb.org/3/person/{}/movie_credits\".format(tomCruiseID),params={\"api_key\":\"be69c89a37932d753906fda34883c89c\"})\n",
    "pyData=response.json()['cast']\n",
    "for i in pyData:\n",
    "    if i['title'] in movies_arr:\n",
    "        answerDict[i['title']]=i['character']\n",
    "for i in movies_arr:\n",
    "    print(answerDict[i])"
   ]
  },
  {
   "cell_type": "markdown",
   "id": "c787764d",
   "metadata": {},
   "source": [
    "# find out if James McAvoy was credited for his role in movie Deadpool 2. Print Yes or No."
   ]
  },
  {
   "cell_type": "code",
   "execution_count": 227,
   "id": "3573f7a1",
   "metadata": {},
   "outputs": [
    {
     "name": "stdout",
     "output_type": "stream",
     "text": [
      "Yes\n"
     ]
    }
   ],
   "source": [
    "import requests\n",
    "from requests.auth import HTTPBasicAuth\n",
    "response=requests.get(\"https://api.themoviedb.org/3/search/person\",params={\"api_key\":\"be69c89a37932d753906fda34883c89c\",\"query\":\"James McAvoy\"})\n",
    "pyData=response.json()\n",
    "personID=pyData['results'][0]['id']\n",
    "\n",
    "\n",
    "response=requests.get(\"https://api.themoviedb.org/3/person/{}/movie_credits\".format(personID),params={\"api_key\":\"be69c89a37932d753906fda34883c89c\"})\n",
    "pyData=response.json()\n",
    "pyData=pyData['cast']\n",
    "for i in pyData:\n",
    "    if i['title'] == \"Deadpool 2\":\n",
    "        result=(i['character'])\n",
    "        if (\"uncredited\" not in result):\n",
    "            print(\"No\")\n",
    "        else:\n",
    "            print(\"Yes\")\n",
    "        break"
   ]
  },
  {
   "cell_type": "markdown",
   "id": "ac003249",
   "metadata": {},
   "source": [
    "# Fetch the overview of the TV Show \"FRIENDS\" using TMDb API"
   ]
  },
  {
   "cell_type": "code",
   "execution_count": 240,
   "id": "dc8253b7",
   "metadata": {},
   "outputs": [
    {
     "name": "stdout",
     "output_type": "stream",
     "text": [
      "Six young people from New York City, on their own and struggling to survive in the real world, find the companionship, comfort and support they get from each other to be the perfect antidote to the pressures of life.\n"
     ]
    }
   ],
   "source": [
    "import requests\n",
    "from requests.auth import HTTPBasicAuth\n",
    "response=requests.get(\"https://api.themoviedb.org/3/search/tv\",params={\"api_key\":\"be69c89a37932d753906fda34883c89c\",\"query\":\"FRIENDS\"})\n",
    "pyData=response.json()\n",
    "showID=pyData['results'][0]['id']\n",
    "\n",
    "response=requests.get(\"https://api.themoviedb.org/3/tv/{}\".format(showID),params={\"api_key\":\"be69c89a37932d753906fda34883c89c\"})\n",
    "pyData=response.json()\n",
    "print(pyData['overview'])"
   ]
  },
  {
   "cell_type": "markdown",
   "id": "288804c2",
   "metadata": {},
   "source": [
    "# Fetch the name and air date of S06E05 of the TV Show 'The Big Bang Theory' from TMDb API."
   ]
  },
  {
   "cell_type": "code",
   "execution_count": 4,
   "id": "fe947644",
   "metadata": {},
   "outputs": [
    {
     "name": "stdout",
     "output_type": "stream",
     "text": [
      "2012-10-25 The Holographic Excitation\n"
     ]
    }
   ],
   "source": [
    "import requests\n",
    "from requests.auth import HTTPBasicAuth\n",
    "response=requests.get(\"https://api.themoviedb.org/3/search/tv\",params={\"api_key\":\"be69c89a37932d753906fda34883c89c\",\"query\":\"The Big Bang Theory\"})\n",
    "pyData=response.json()\n",
    "showID=pyData['results'][0]['id']\n",
    "\n",
    "response=requests.get(\"https://api.themoviedb.org/3/tv/{}/season/{}/episode/{}\".format(showID,6,5),params={\"api_key\":\"be69c89a37932d753906fda34883c89c\"})\n",
    "pyData=response.json()\n",
    "print(pyData['air_date'],pyData['name'])"
   ]
  },
  {
   "cell_type": "markdown",
   "id": "d91f774b",
   "metadata": {},
   "source": [
    "# Fetch the name and air date of S06E05 of the TV Show 'The Big Bang Theory' from TMDb API."
   ]
  },
  {
   "cell_type": "code",
   "execution_count": 256,
   "id": "7166f1fc",
   "metadata": {},
   "outputs": [
    {
     "name": "stdout",
     "output_type": "stream",
     "text": [
      "Fire and blood.\n",
      "Empty\n",
      "Empty\n",
      "The Rebellion begins.\n",
      "Open your mind to fear.\n"
     ]
    }
   ],
   "source": [
    "import requests\n",
    "from requests.auth import HTTPBasicAuth\n",
    "response=requests.get(\"https://api.themoviedb.org/3/trending/tv/week\",params={\"api_key\":\"be69c89a37932d753906fda34883c89c\"})\n",
    "pyData=response.json()\n",
    "pyData=pyData['results'][:5]\n",
    "idArr=[]\n",
    "for i in pyData:\n",
    "    idArr.append(i['id'])\n",
    "\n",
    "for id in idArr:\n",
    "    response=requests.get(\"https://api.themoviedb.org/3/tv/{}\".format(id),params={\"api_key\":\"be69c89a37932d753906fda34883c89c\"})\n",
    "    pyData=response.json()\n",
    "    tagline=(pyData['tagline'])\n",
    "    if tagline == \"\":\n",
    "        print(\"Empty\")\n",
    "    else:\n",
    "        print(tagline)"
   ]
  },
  {
   "cell_type": "markdown",
   "id": "5409c4f8",
   "metadata": {},
   "source": [
    "# Fetch the name and air date of S06E05 of the TV Show 'The Big Bang Theory' from TMDb API."
   ]
  },
  {
   "cell_type": "code",
   "execution_count": 294,
   "id": "077248bf",
   "metadata": {},
   "outputs": [
    {
     "name": "stdout",
     "output_type": "stream",
     "text": [
      "The Walking Dead\n",
      "The Simpsons\n",
      "Yellowstone\n",
      "Family Guy\n",
      "Rugby League World Cup\n",
      "SEAL Team\n",
      "NCIS: Los Angeles\n",
      "Bob's Burgers\n",
      "Heartland\n",
      "Top Gear\n",
      "The White Lotus\n",
      "Interview with the Vampire\n",
      "PBS News Weekend\n",
      "I'm a Celebrity Get Me Out of Here!\n",
      "Last Week Tonight with John Oliver\n",
      "Talking Dead\n",
      "Imlie y Cheeni\n",
      "Strictly Come Dancing\n",
      "Secrets of a Nympho\n",
      "The Equalizer\n",
      "Dangerous Liaisons\n",
      "SAS: Rogue Heroes\n",
      "Hudson & Rex\n",
      "Let the Right One In\n",
      "90 Day Fiancé: Pillow Talk\n",
      "Tulsa King\n",
      "Jeopardy!\n",
      "Paranormal Caught on Camera\n",
      "East New York\n",
      "The Great North\n",
      "American Monster\n",
      "Air Disasters\n",
      "Match of the Day 2\n",
      "Moonshine\n",
      "Lost Treasures of Egypt\n",
      "The Circus\n",
      "90 Day Fiancé: Happily Ever After?\n",
      "The Real Housewives of Potomac\n",
      "Death Battle!\n",
      "60 Minutes\n",
      "999: On the Front Line\n",
      "Bhagya Lakshmi\n",
      "Celebrity Wheel of Fortune\n",
      "Island of Bryan\n",
      "Escape to the Chateau\n",
      "Sister Wives\n",
      "Step Up\n",
      "Grand Prix Sunday\n",
      "The BMF Documentary - Blowing Money Fast\n",
      "Celebrity Jeopardy!\n",
      "Propaganda Exposed [Uncensored]\n",
      "The Great Canadian Baking Show\n",
      "Christmas Cookie Challenge\n",
      "Family Karma\n",
      "Spector\n",
      "The Lost Kitchen\n",
      "The Traitors\n",
      "Alpha Betas\n",
      "The Toys That Built America\n",
      "The Dengineers\n",
      "MTV Europe Music Awards\n",
      "Power Trip: Those Who Seek Power and Those Who Chase Them\n",
      "Chequered Flag\n",
      "Faltu\n",
      "¿Cómo se llama esta relación?\n",
      "Holiday Wars\n",
      "60 Minutes\n",
      "Ted's Notebook\n",
      "Sunday with Laura Kuenssberg\n",
      "Running Man Philippines\n",
      "Fareed Zakaria GPS\n",
      "E:60\n"
     ]
    }
   ],
   "source": [
    "import requests\n",
    "from requests.auth import HTTPBasicAuth\n",
    "response=requests.get(\"https://api.themoviedb.org/3/tv/airing_today\",params={\"api_key\":\"be69c89a37932d753906fda34883c89c\"})\n",
    "total_pages=response.json()['total_pages']\n",
    "\n",
    "for pageNo in range(1,total_pages+1):\n",
    "    response=requests.get(\"https://api.themoviedb.org/3/tv/airing_today\",params={\"api_key\":\"be69c89a37932d753906fda34883c89c\",\"page\":pageNo})\n",
    "    pyData=response.json()\n",
    "    data=(pyData['results'])\n",
    "    for d in data:\n",
    "        if d['original_language'] == \"en\":\n",
    "            print(d['name'])"
   ]
  },
  {
   "cell_type": "markdown",
   "id": "db8d9ab0",
   "metadata": {},
   "source": [
    "# Count the number of males and females in the cast of \"Money Heist\" "
   ]
  },
  {
   "cell_type": "code",
   "execution_count": 279,
   "id": "d1dad747",
   "metadata": {},
   "outputs": [
    {
     "name": "stdout",
     "output_type": "stream",
     "text": [
      "Male: 10 Female: 5\n"
     ]
    }
   ],
   "source": [
    "import requests\n",
    "from requests.auth import HTTPBasicAuth\n",
    "response=requests.get(\"https://api.themoviedb.org/3/search/tv\",params={\"api_key\":\"be69c89a37932d753906fda34883c89c\",\"query\":\"Money Heist\"})\n",
    "pyData=response.json()\n",
    "showID=pyData['results'][0]['id']\n",
    "\n",
    "genderDict={1:0,2:0}\n",
    "response=requests.get(\"https://api.themoviedb.org/3/tv/{}/credits\".format(showID),params={\"api_key\":\"be69c89a37932d753906fda34883c89c\"})\n",
    "pyData=response.json()['cast']\n",
    "for i in pyData:\n",
    "    genderDict[i['gender']]+=1\n",
    "print(\"Male:\",genderDict[2],\"Female:\",genderDict[1])"
   ]
  }
 ],
 "metadata": {
  "kernelspec": {
   "display_name": "Python 3 (ipykernel)",
   "language": "python",
   "name": "python3"
  },
  "language_info": {
   "codemirror_mode": {
    "name": "ipython",
    "version": 3
   },
   "file_extension": ".py",
   "mimetype": "text/x-python",
   "name": "python",
   "nbconvert_exporter": "python",
   "pygments_lexer": "ipython3",
   "version": "3.9.12"
  }
 },
 "nbformat": 4,
 "nbformat_minor": 5
}
