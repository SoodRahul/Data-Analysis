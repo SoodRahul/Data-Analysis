{
 "cells": [
  {
   "cell_type": "code",
   "execution_count": 31,
   "id": "e2e08639",
   "metadata": {},
   "outputs": [],
   "source": [
    "import numpy as np"
   ]
  },
  {
   "cell_type": "code",
   "execution_count": 44,
   "id": "f9bf3eba",
   "metadata": {},
   "outputs": [],
   "source": [
    "class GaussianNB:\n",
    "    \n",
    "    def fit(self,x_train,y_train):\n",
    "        \n",
    "        nSamples , nFeatures = x_train.shape\n",
    "        self._classes = np.unique(y_train)\n",
    "        n_classes = len(self._classes)\n",
    "        \n",
    "        # calculating mean , var and probability of each class\n",
    "        self._mean = np.zeros((n_classes,nFeatures),dtype=np.float64)\n",
    "        self._var = np.zeros((n_classes,nFeatures),dtype=np.float64)\n",
    "        self._probability = np.zeros(n_classes,dtype=np.float64)\n",
    "        \n",
    "        for idx , c in enumerate(self._classes):\n",
    "            \n",
    "            x_class = x_train[y_train == c]\n",
    "            self._mean[idx,:] = x_class.mean(axis=0)\n",
    "            self._var[idx,:] = x_class.var(axis = 0)\n",
    "            self._probability[idx] = x_class.shape[0] / nSamples\n",
    "        \n",
    "    def predict(self,x_test):\n",
    "        y_pred = [self._predictHelper(x) for x in x_test]\n",
    "        return np.array(y_pred)\n",
    "        \n",
    "    def _predictHelper(self,x):\n",
    "        best_prob = []\n",
    "        for index,c in enumerate(self._classes):\n",
    "            y_prob = self._probability[index]\n",
    "            prob = self._pdf(index,x)\n",
    "            result_prob = np.log(prob) + np.log(y_prob)\n",
    "            best_prob.append(result_prob)\n",
    "        return self._classes[np.argmax(best_prob)]\n",
    "        \n",
    "    def _pdf(self,cls_index,x):\n",
    "            \n",
    "        cls_mean = self._mean[cls_index]\n",
    "        cls_var = self._var[cls_index]\n",
    "            \n",
    "        num = np.exp(-((x-cls_mean)**2)/(2*cls_var))\n",
    "        deno = np.sqrt(2*np.pi*cls_var)\n",
    "            \n",
    "        return np.sum(num/deno)\n",
    "            "
   ]
  },
  {
   "cell_type": "code",
   "execution_count": 1,
   "id": "70a5e95f",
   "metadata": {},
   "outputs": [],
   "source": [
    "from sklearn import datasets\n",
    "from sklearn.model_selection import train_test_split\n",
    "from sklearn.metrics import classification_report,confusion_matrix"
   ]
  },
  {
   "cell_type": "code",
   "execution_count": 2,
   "id": "a0f8b669",
   "metadata": {},
   "outputs": [],
   "source": [
    "iris=datasets.load_iris()\n",
    "x=iris.data\n",
    "y=iris.target\n",
    "x_train,x_test,y_train,y_test = train_test_split(x,y)"
   ]
  },
  {
   "cell_type": "code",
   "execution_count": 57,
   "id": "0964341d",
   "metadata": {},
   "outputs": [],
   "source": [
    "clf =GaussianNB()\n",
    "clf.fit(x_train,y_train)"
   ]
  },
  {
   "cell_type": "code",
   "execution_count": 58,
   "id": "b6e41139",
   "metadata": {},
   "outputs": [],
   "source": [
    "y_pred=clf.predict(x_test)"
   ]
  },
  {
   "cell_type": "code",
   "execution_count": 59,
   "id": "3a104a04",
   "metadata": {},
   "outputs": [
    {
     "name": "stdout",
     "output_type": "stream",
     "text": [
      "[[16  0  0]\n",
      " [ 0 13  0]\n",
      " [ 0  0  9]]\n"
     ]
    }
   ],
   "source": [
    "print(confusion_matrix(y_test,y_pred))"
   ]
  }
 ],
 "metadata": {
  "kernelspec": {
   "display_name": "Python 3 (ipykernel)",
   "language": "python",
   "name": "python3"
  },
  "language_info": {
   "codemirror_mode": {
    "name": "ipython",
    "version": 3
   },
   "file_extension": ".py",
   "mimetype": "text/x-python",
   "name": "python",
   "nbconvert_exporter": "python",
   "pygments_lexer": "ipython3",
   "version": "3.9.12"
  }
 },
 "nbformat": 4,
 "nbformat_minor": 5
}
