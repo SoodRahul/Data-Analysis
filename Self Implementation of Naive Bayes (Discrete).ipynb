{
 "cells": [
  {
   "cell_type": "markdown",
   "id": "ab593e5e",
   "metadata": {},
   "source": [
    "# Self Implementation of Naive Bayes For Discrete Data"
   ]
  },
  {
   "cell_type": "code",
   "execution_count": 12,
   "id": "cfaed63d",
   "metadata": {},
   "outputs": [],
   "source": [
    "import numpy as np\n",
    "class NaiveBayes:\n",
    "    \n",
    "    def __init__(self):\n",
    "        \n",
    "        self.dictionary={}\n",
    "    \n",
    "    def fit(self,x_train,y_train) :\n",
    "        \n",
    "        classes=np.unique(y_train)\n",
    "        total=len(y_train)\n",
    "        self.dictionary[\"Total_Data\"] = total\n",
    "        for cls in classes:\n",
    "            \n",
    "            self.dictionary[cls]={}\n",
    "            \n",
    "            indexes = (y_train == cls)\n",
    "            \n",
    "            x_train_cls=x_train[indexes]\n",
    "            y_train_cls=y_train[indexes]\n",
    "            \n",
    "            nFeatures=x_train_cls.shape[1]\n",
    "            self.dictionary[cls][\"Total_Count\"] = len(y_train_cls)\n",
    "            for f in range(1,nFeatures+1):\n",
    "                self.dictionary[cls][f]={}\n",
    "                \n",
    "                xCol=x_train_cls[:,f-1]\n",
    "                distinct_vals=np.unique(x_train[:,f-1])\n",
    "                \n",
    "                for val in distinct_vals:\n",
    "                    \n",
    "                    self.dictionary[cls][f][val] = np.sum(xCol == val)\n",
    "                    \n",
    "    def predict(self,x_test):\n",
    "        \n",
    "        y_pred=[]\n",
    "        \n",
    "        for x in x_test:\n",
    "            prediction=self._getSinglePoint(x)\n",
    "            y_pred.append(prediction)\n",
    "        \n",
    "        return y_pred\n",
    "    \n",
    "    def _getProbability(self,x,cls):\n",
    "        \n",
    "        overall_y = self.dictionary[\"Total_Data\"]\n",
    "        count_cls = self.dictionary[cls][\"Total_Count\"]\n",
    "        \n",
    "        result = np.log(count_cls) - np.log(overall_y)\n",
    "        nFeatures = len(self.dictionary[cls].keys()) -1\n",
    "        \n",
    "        for f in range(1,nFeatures+1):\n",
    "            \n",
    "            xj=x[f-1]\n",
    "            \n",
    "            prob_num = self.dictionary[cls][f][xj] + 1\n",
    "            \n",
    "            distinct_vals_count= len(self.dictionary[cls][f].keys())\n",
    "            \n",
    "            prob_deno = count_cls + distinct_vals_count\n",
    "            \n",
    "            prob = np.log(prob_num) - np.log(prob_deno)\n",
    "            \n",
    "            result += prob\n",
    "            \n",
    "        return result\n",
    "            \n",
    "    def _getSinglePoint(self,x):\n",
    "        classes = self.dictionary.keys()\n",
    "        best_class=None\n",
    "        best_prob=float('-inf')\n",
    "        first_run=True\n",
    "        for cls in classes:\n",
    "            if cls == \"Total_Data\":\n",
    "                continue\n",
    "            prob=self._getProbability(x,cls)\n",
    "            if first_run == True or best_prob < prob:\n",
    "                best_prob = prob\n",
    "                best_class = cls\n",
    "            first_run = False\n",
    "            \n",
    "        return best_class"
   ]
  },
  {
   "cell_type": "code",
   "execution_count": 26,
   "id": "aee9e9c0",
   "metadata": {},
   "outputs": [],
   "source": [
    "from sklearn import datasets\n",
    "from sklearn.naive_bayes import MultinomialNB\n",
    "from sklearn.model_selection import train_test_split\n",
    "from sklearn.metrics import classification_report,confusion_matrix"
   ]
  },
  {
   "cell_type": "code",
   "execution_count": 17,
   "id": "918b629a",
   "metadata": {},
   "outputs": [],
   "source": [
    "def getLabelled(xCol):\n",
    "    \n",
    "    first_limit = np.mean(xCol)\n",
    "    zero_limit = 0.5 * first_limit\n",
    "    third_limit = 1.5 * first_limit\n",
    "    \n",
    "    for i in range(len(xCol)):\n",
    "        \n",
    "        if xCol[i] < zero_limit:\n",
    "            xCol[i] = 0\n",
    "        elif xCol[i] < first_limit:\n",
    "            xCol[i] = 1\n",
    "        elif xCol[i] < third_limit:\n",
    "            xCol[i] = 2\n",
    "        else:\n",
    "            xCol[i] = 3\n",
    "    return xCol"
   ]
  },
  {
   "cell_type": "code",
   "execution_count": 19,
   "id": "98e41d1d",
   "metadata": {},
   "outputs": [],
   "source": [
    "iris = datasets.load_iris()\n",
    "\n",
    "x = iris.data\n",
    "y = iris.target\n",
    "\n",
    "nFeatures = x.shape[1]\n",
    "for f in range(nFeatures):\n",
    "    x[:,f] = getLabelled(x[:,f])\n",
    "    \n",
    "x_train,x_test,y_train,y_test = train_test_split(x,y)"
   ]
  },
  {
   "cell_type": "code",
   "execution_count": 25,
   "id": "4b3ab09d",
   "metadata": {},
   "outputs": [
    {
     "name": "stdout",
     "output_type": "stream",
     "text": [
      "              precision    recall  f1-score   support\n",
      "\n",
      "           0       1.00      1.00      1.00        12\n",
      "           1       1.00      0.93      0.96        14\n",
      "           2       0.92      1.00      0.96        12\n",
      "\n",
      "    accuracy                           0.97        38\n",
      "   macro avg       0.97      0.98      0.97        38\n",
      "weighted avg       0.98      0.97      0.97        38\n",
      "\n"
     ]
    }
   ],
   "source": [
    "clf = NaiveBayes()\n",
    "clf.fit(x_train,y_train)\n",
    "y_pred=clf.predict(x_test)\n",
    "print(classification_report(y_test,y_pred))"
   ]
  },
  {
   "cell_type": "code",
   "execution_count": 27,
   "id": "e5c9a4c9",
   "metadata": {},
   "outputs": [
    {
     "name": "stdout",
     "output_type": "stream",
     "text": [
      "[[12  0  0]\n",
      " [ 0 13  1]\n",
      " [ 0  0 12]]\n"
     ]
    }
   ],
   "source": [
    "print(confusion_matrix(y_test,y_pred))"
   ]
  }
 ],
 "metadata": {
  "kernelspec": {
   "display_name": "Python 3 (ipykernel)",
   "language": "python",
   "name": "python3"
  },
  "language_info": {
   "codemirror_mode": {
    "name": "ipython",
    "version": 3
   },
   "file_extension": ".py",
   "mimetype": "text/x-python",
   "name": "python",
   "nbconvert_exporter": "python",
   "pygments_lexer": "ipython3",
   "version": "3.9.12"
  }
 },
 "nbformat": 4,
 "nbformat_minor": 5
}
