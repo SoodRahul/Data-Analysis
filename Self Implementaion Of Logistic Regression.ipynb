{
 "cells": [
  {
   "cell_type": "code",
   "execution_count": 74,
   "id": "bd5d2dfe",
   "metadata": {},
   "outputs": [],
   "source": [
    "import warnings\n",
    "warnings.filterwarnings('ignore')"
   ]
  },
  {
   "cell_type": "markdown",
   "id": "c8f06e66",
   "metadata": {},
   "source": [
    "# Self Implementaion Of Logistic Regression"
   ]
  },
  {
   "cell_type": "code",
   "execution_count": 66,
   "id": "f5f2c8c0",
   "metadata": {},
   "outputs": [],
   "source": [
    "import numpy as np"
   ]
  },
  {
   "cell_type": "code",
   "execution_count": 67,
   "id": "e08eb139",
   "metadata": {},
   "outputs": [],
   "source": [
    "class Logistic_Regression:\n",
    "    \n",
    "    def __init__(self,l_rate=0.001,num_iters=1000): # initialising Logistic Regression object \n",
    "        self.l_rate=l_rate   # Learning Rate\n",
    "        self.num_iters=num_iters # Number of iterations\n",
    "        self.slope_arr=None      # Slope / weights \n",
    "        self.intercept=None      # Intercept / Bias\n",
    "        \n",
    "    def sigmoid(self,m_transpose):  # Function to Calculate Sigmoid Functions which hepls in predictions\n",
    "        m_transpose=m_transpose.astype(np.float64)  # 1 / (1 + e^(slope_intercept_eqn))\n",
    "        return 1/((1+np.exp(-m_transpose)))          # returns array of predictions in range b/w 0 to 1\n",
    "    \n",
    "    def fit(self,x,y):\n",
    "        \n",
    "        nRows,nFeatures=x.shape\n",
    "        self.slope_arr=np.zeros(nFeatures)   # initialising Gradient Descent step with random Slope and\n",
    "        self.intercept=0                     # intercept i.e 0\n",
    "        \n",
    "        for i in range(self.num_iters):\n",
    "            \n",
    "            m_transpose=np.dot(x,self.slope_arr) + self.intercept   # y= (m1 * x1) + (m2 * x2) ...... + c\n",
    "            \n",
    "            predictions=self.sigmoid(m_transpose) # h(x^i) = 1 / (1 + e^(slope_intercept_eqn))\n",
    "            \n",
    "            pdiff_slope=(1/nRows)*np.dot(x.T,(predictions-y)) # slope gradient (partial derivation of Cost wrt to slope)\n",
    "            pdiff_intercept=(1/nRows)*np.sum(predictions-y) # intercept gradient (partial derivation of Cost wrt to intercept)\n",
    "            \n",
    "            self.slope_arr = self.slope_arr - (self.l_rate * pdiff_slope)\n",
    "            self.intercept = self.intercept - (self.l_rate * pdiff_intercept)\n",
    "        \n",
    "            \n",
    "    def predict(self,x_test):\n",
    "        \n",
    "        m_transpose=np.dot(x_test,self.slope_arr) + self.intercept\n",
    "        y_pred=self.sigmoid(m_transpose)\n",
    "        \n",
    "        results=[0 if y<=0.5 else 1 for y in y_pred]\n",
    "        \n",
    "        return results\n",
    "            \n",
    "            "
   ]
  },
  {
   "cell_type": "markdown",
   "id": "22577c37",
   "metadata": {},
   "source": [
    "# **Testing Our Model**"
   ]
  },
  {
   "cell_type": "code",
   "execution_count": 68,
   "id": "78408d09",
   "metadata": {},
   "outputs": [],
   "source": [
    "from sklearn import datasets\n",
    "from sklearn.model_selection import train_test_split\n",
    "\n",
    "dataset=datasets.load_breast_cancer()\n",
    "\n",
    "X=dataset.data\n",
    "Y=dataset.target\n",
    "\n",
    "x_train,x_test,y_train,y_test=train_test_split(X,Y,random_state=213)"
   ]
  },
  {
   "cell_type": "code",
   "execution_count": 69,
   "id": "29d4e19f",
   "metadata": {},
   "outputs": [],
   "source": [
    "def Accuracy(y_true,y_pred):\n",
    "    return np.sum(y_true == y_pred) / len(y_true)"
   ]
  },
  {
   "cell_type": "code",
   "execution_count": 70,
   "id": "9d8ab9fe",
   "metadata": {},
   "outputs": [],
   "source": [
    "Classifier=Logistic_Regression()\n",
    "Classifier.fit(x_train,y_train)"
   ]
  },
  {
   "cell_type": "code",
   "execution_count": 71,
   "id": "e77f4c1f",
   "metadata": {},
   "outputs": [],
   "source": [
    "y_pred=Classifier.predict(x_test)\n",
    "Score=Accuracy(y_test,y_pred)"
   ]
  },
  {
   "cell_type": "code",
   "execution_count": 72,
   "id": "00f9d166",
   "metadata": {},
   "outputs": [
    {
     "name": "stdout",
     "output_type": "stream",
     "text": [
      "0.9230769230769231\n"
     ]
    }
   ],
   "source": [
    "print(Score)"
   ]
  }
 ],
 "metadata": {
  "kernelspec": {
   "display_name": "Python 3 (ipykernel)",
   "language": "python",
   "name": "python3"
  },
  "language_info": {
   "codemirror_mode": {
    "name": "ipython",
    "version": 3
   },
   "file_extension": ".py",
   "mimetype": "text/x-python",
   "name": "python",
   "nbconvert_exporter": "python",
   "pygments_lexer": "ipython3",
   "version": "3.9.12"
  }
 },
 "nbformat": 4,
 "nbformat_minor": 5
}
