{
 "cells": [
  {
   "cell_type": "code",
   "execution_count": 1,
   "id": "e5b4ed93",
   "metadata": {},
   "outputs": [],
   "source": [
    "from sklearn import datasets\n",
    "from sklearn.decomposition import PCA\n",
    "from sklearn.model_selection import  train_test_split\n",
    "import numpy as np"
   ]
  },
  {
   "cell_type": "code",
   "execution_count": 2,
   "id": "be8608b0",
   "metadata": {},
   "outputs": [],
   "source": [
    "bc_dataset = datasets.load_breast_cancer()\n",
    "x=bc_dataset.data\n",
    "y=bc_dataset.target\n",
    "x_train,x_test,y_train,y_test = train_test_split(x,y,random_state=123)"
   ]
  },
  {
   "cell_type": "code",
   "execution_count": 3,
   "id": "83e03802",
   "metadata": {},
   "outputs": [],
   "source": [
    "class Self_PCA:\n",
    "    \n",
    "    def __init__(self,n_comp = None,mean_centre = False):\n",
    "        self.n_comp = n_comp\n",
    "        self.components = None\n",
    "        self._mean_centre = False\n",
    "        self._mean = None\n",
    "        \n",
    "    def fit(self,x_train):\n",
    "        \n",
    "        self._mean = np.mean(x_train,axis=0)\n",
    "        if self._mean_centre == True:\n",
    "            x_train = x_train - self._mean\n",
    "        \n",
    "        \n",
    "        cov_matrix = np.cov(x_train.T)\n",
    "        \n",
    "        eigen_vals , eigen_vector = np.linalg.eig(cov_matrix)\n",
    "        eigen_vector = eigen_vector.T\n",
    "        \n",
    "        nSamples , nFeatures = x_train.shape\n",
    "        if self.n_comp == None:\n",
    "            self.n_comp = min(nSamples,nFeatures)\n",
    "        \n",
    "        sort_idxs = np.argsort(eigen_vals)[::-1]\n",
    "        \n",
    "        eigen_vals = eigen_vals[sort_idxs]\n",
    "        eigen_vector = eigen_vector[sort_idxs]\n",
    "        \n",
    "        self.components = eigen_vector[:self.n_comp]\n",
    "        self.explanined_var = eigen_vals[:self.n_comp]\n",
    "    \n",
    "    def transform(self,x_train):\n",
    "        x_train = x_train - self._mean\n",
    "        projection = np.dot(x_train,self.components.T)\n",
    "        \n",
    "        return np.array(projection)\n",
    "    \n",
    "    def fit_n_transform(self,x_train):\n",
    "        self.fit(x_train)\n",
    "        return self.transform(x_train)"
   ]
  },
  {
   "cell_type": "code",
   "execution_count": 29,
   "id": "c85f7cca",
   "metadata": {},
   "outputs": [
    {
     "name": "stdout",
     "output_type": "stream",
     "text": [
      "Optimal value of k with restoring 95.0% of variance is  1\n"
     ]
    }
   ],
   "source": [
    "# finding optimal value of n_components\n",
    "\n",
    "n=0\n",
    "curr_var =0\n",
    "\n",
    "pca = Self_PCA()\n",
    "pca.fit(x_train)\n",
    "total_var = np.sum(pca.explanined_var)\n",
    "\n",
    "# var_to_restore = float(input())\n",
    "var_to_restore = 0.95\n",
    "while curr_var / total_var < var_to_restore:\n",
    "    curr_var += pca.explanined_var[n]\n",
    "    n+=1\n",
    "\n",
    "print(f\"Optimal value of k with restorin g {var_to_restore*100}% of variance is \",n)"
   ]
  },
  {
   "cell_type": "code",
   "execution_count": 22,
   "id": "44d6ad2a",
   "metadata": {},
   "outputs": [
    {
     "name": "stdout",
     "output_type": "stream",
     "text": [
      "Self Implemented PCA \n",
      "\n",
      "[[ 5.10120380e-03  2.26911347e-03  3.51226828e-02  5.13955528e-01\n",
      "   3.55976675e-06  3.94653551e-05  8.03726490e-05  4.74061830e-05\n",
      "   7.56800010e-06 -2.94958268e-06  3.01243192e-04 -5.18780326e-05\n",
      "   2.14460525e-03  5.36865589e-02 -9.38812218e-07  5.47687188e-06\n",
      "   8.08106248e-06  3.13979786e-06 -1.05474179e-06 -1.43235281e-07\n",
      "   7.19117697e-03  3.22096124e-03  4.97210549e-02  8.53910813e-01\n",
      "   5.43695454e-06  1.00543242e-04  1.65335175e-04  7.29148775e-05\n",
      "   2.02960997e-05  1.09658820e-06]]\n"
     ]
    }
   ],
   "source": [
    "# Self implementation of PCA\n",
    "PCA_obj = Self_PCA(n_comp=n,mean_centre=True)\n",
    "x_train_pca=PCA_obj.fit_n_transform(x_train)\n",
    "\n",
    "print(\"Self Implemented PCA \\n\")\n",
    "print(PCA_obj.components)"
   ]
  },
  {
   "cell_type": "code",
   "execution_count": 24,
   "id": "c69f481a",
   "metadata": {},
   "outputs": [
    {
     "name": "stdout",
     "output_type": "stream",
     "text": [
      "InBuilt PCA \n",
      "\n",
      "[[ 5.10120380e-03  2.26911347e-03  3.51226828e-02  5.13955528e-01\n",
      "   3.55976675e-06  3.94653551e-05  8.03726490e-05  4.74061830e-05\n",
      "   7.56800010e-06 -2.94958268e-06  3.01243192e-04 -5.18780326e-05\n",
      "   2.14460525e-03  5.36865589e-02 -9.38812218e-07  5.47687188e-06\n",
      "   8.08106248e-06  3.13979786e-06 -1.05474179e-06 -1.43235281e-07\n",
      "   7.19117697e-03  3.22096124e-03  4.97210549e-02  8.53910813e-01\n",
      "   5.43695454e-06  1.00543242e-04  1.65335175e-04  7.29148775e-05\n",
      "   2.02960997e-05  1.09658820e-06]]\n"
     ]
    }
   ],
   "source": [
    "# Inbuilt PCA \n",
    "PCA_obj_ = PCA(n_components=n,whiten=True)\n",
    "x_train_pca_=PCA_obj_.fit_transform(x_train)\n",
    "\n",
    "print(\"InBuilt PCA \\n\")\n",
    "print(PCA_obj_.components_)"
   ]
  },
  {
   "cell_type": "code",
   "execution_count": null,
   "id": "5da9b6b8",
   "metadata": {},
   "outputs": [],
   "source": []
  }
 ],
 "metadata": {
  "kernelspec": {
   "display_name": "Python 3 (ipykernel)",
   "language": "python",
   "name": "python3"
  },
  "language_info": {
   "codemirror_mode": {
    "name": "ipython",
    "version": 3
   },
   "file_extension": ".py",
   "mimetype": "text/x-python",
   "name": "python",
   "nbconvert_exporter": "python",
   "pygments_lexer": "ipython3",
   "version": "3.9.12"
  }
 },
 "nbformat": 4,
 "nbformat_minor": 5
}
