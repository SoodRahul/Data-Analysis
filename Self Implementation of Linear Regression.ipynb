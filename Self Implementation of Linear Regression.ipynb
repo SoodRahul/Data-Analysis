{
 "cells": [
  {
   "cell_type": "code",
   "execution_count": 46,
   "id": "f0be2dc4",
   "metadata": {},
   "outputs": [],
   "source": [
    "import numpy as np\n",
    "from sklearn import datasets\n",
    "from sklearn.model_selection import train_test_split"
   ]
  },
  {
   "cell_type": "code",
   "execution_count": 47,
   "id": "f9a7df02",
   "metadata": {},
   "outputs": [],
   "source": [
    "class LinearRegression:\n",
    "    \n",
    "    def __init__(self,l_rate=0.001,num_iters=1000):\n",
    "        \n",
    "        self.l_rate=l_rate\n",
    "        self.num_iters=num_iters\n",
    "        self.Slope=None\n",
    "        self.Intercept=None\n",
    "    \n",
    "    def fit(self,X,Y):\n",
    "        \n",
    "        nRows,nfeatures=X.shape\n",
    "        self.Slope=np.zeros(nfeatures)\n",
    "        self.Intercept=0\n",
    "        \n",
    "        for i in range(self.num_iters):\n",
    "            \n",
    "            slope_intercept_eq = np.dot(X,self.Slope) + self.Intercept   # y = m1 * x1 + m2 * x2 + m3 * x3... + c\n",
    "            \n",
    "            pDiff_slope=(-2/nRows)*(np.dot(X.T,Y - slope_intercept_eq))   # partial differentiation of y^i wrt slope \n",
    "            pDiff_intercept=(-2/nRows)*np.sum(Y - slope_intercept_eq)     # partial differentiation of y^i wrt intercept \n",
    "            \n",
    "            self.Slope = self.Slope - (self.l_rate * pDiff_slope)        # calculating new Slope\n",
    "            self.Intercept = self.Intercept - (self.l_rate * pDiff_intercept)    # calculating new Intercept\n",
    "            \n",
    "            \n",
    "    def predict(self,x_test):\n",
    "        \n",
    "        y_pred = np.dot(x_test,self.Slope) + self.Intercept      # y = m1 * x1 + m2 * x2 + m3 * x3... + c\n",
    "        \n",
    "        return y_pred"
   ]
  },
  {
   "cell_type": "code",
   "execution_count": 48,
   "id": "2dae0625",
   "metadata": {},
   "outputs": [],
   "source": [
    "def mean_sq_error(y_true,y_pred):\n",
    "    return np.mean((y_true-y_pred)**2)    # (1 / n) * (y - yi)**2\n",
    "def r_sq(y_true,y_pred):\n",
    "    nr=np.sum(y_true-y_pred)  # numerator\n",
    "    dr=np.sum(y_true-y_pred.mean()) # denomenator\n",
    "    return 1 - (nr/dr)**2     # 1- u/v"
   ]
  },
  {
   "cell_type": "code",
   "execution_count": 49,
   "id": "bb6e4358",
   "metadata": {},
   "outputs": [],
   "source": [
    "X,Y=datasets.make_regression(n_samples=1000,n_features=1,noise=20,random_state=23)\n",
    "x_train,x_test,y_train,y_test=train_test_split(X,Y)\n",
    "regressor=LinearRegression()\n",
    "regressor.fit(x_train,y_train)\n",
    "y_pred=regressor.predict(x_test)"
   ]
  },
  {
   "cell_type": "code",
   "execution_count": 50,
   "id": "3319211b",
   "metadata": {},
   "outputs": [
    {
     "name": "stdout",
     "output_type": "stream",
     "text": [
      "[ 0.83368899  1.22739632  1.92785232  0.62123215 -0.35852844  0.31601825\n",
      " -0.19770843 -0.30777692  0.10692887 -1.81673848 -0.9286546   0.98853237\n",
      "  0.3938646  -1.11921221  0.39729698 -0.409723   -0.34483845 -0.58700856\n",
      "  0.02478622  0.90763611 -0.77339797 -0.66403242  0.6537891   0.4165088\n",
      " -0.86725363  1.49135968 -0.1821567   0.3531903   3.1866827   0.39690625\n",
      " -2.49014863  0.56677799 -0.38197576 -1.24420047  1.2266926  -0.13638826\n",
      "  1.98758958 -0.97951203  2.79304672  0.43349412 -0.56934289  0.29911681\n",
      " -0.9862436   1.27316951  0.50645441  1.69175788  0.76093771  0.02989514\n",
      " -0.69003769 -0.63570248  1.16005326  4.19057021 -0.68745153 -0.35383572\n",
      " -0.32327118  1.82408454 -0.37404843  2.49758747  1.28903183  1.1673075\n",
      "  0.46464739 -0.15879475 -0.66697414 -1.04073868  0.62899477  0.80937679\n",
      "  1.70963142 -1.07791843 -2.48297996  0.42336855  1.70783537  1.94868147\n",
      "  2.72098233  1.50554293 -1.08902865 -1.30338088  1.66135397  0.87526694\n",
      "  0.66204844  0.00483243 -1.01908379  0.27102017  0.62109207 -1.20690952\n",
      " -0.40531051 -1.71059631  0.26205082  0.09488089  1.92775086  1.77008116\n",
      "  0.06509266 -0.21036391 -1.08479238 -1.50544138 -1.3646797   0.65204667\n",
      "  0.8412781   1.71319922  0.02985466  0.2276208  -0.37416145  0.60962782\n",
      " -0.70996443 -0.933851    1.99950936  0.65253955 -0.01420544 -0.06468945\n",
      "  0.7277949  -2.01485613  0.4460275  -0.96978574 -0.29567959 -0.26883015\n",
      "  1.01817104  1.28242683 -0.52261885  0.71186331 -1.55497292  1.83507556\n",
      "  0.80627696  0.45629594  0.68390809 -1.86776101  1.1520868   0.32086124\n",
      "  0.19601092  0.45608216  2.9407997   2.05396618  1.0867483  -0.544688\n",
      "  0.81653022 -2.09655675  0.24133949 -0.0166378  -0.6373922   0.96541414\n",
      " -0.14910127  0.04063925  1.03281975  1.21729945 -1.5213695   1.64561546\n",
      "  0.47936924  0.89980303  0.00992967  0.97004793  1.17881342 -1.02317713\n",
      "  2.03912534  2.0977407  -1.16564513  2.04908645 -0.61919823  0.22063726\n",
      "  1.0535437   1.40050525 -0.85019482  1.63240035 -0.45199613 -0.46933562\n",
      "  0.29148246 -1.1556496   0.55734746 -0.81494958  0.42280917 -2.22570547\n",
      " -1.0139133  -0.47819934  0.23340438  1.76063351 -1.66662135  1.01793209\n",
      " -0.0537303   1.83367028  1.20284028  3.70092131  0.31767594 -1.14491161\n",
      "  1.09860414  0.3479864   1.2006416  -1.46714194  1.15588667 -0.87519885\n",
      " -1.34679335 -0.27097691  2.17301883  0.63896427 -1.00193921 -0.26385792\n",
      " -1.37732509  0.32221021 -0.04504072  0.81809251  0.46068629 -0.39351406\n",
      " -0.36212939  1.37608843  0.69891889  0.57724753  0.8024326  -1.0454899\n",
      " -0.81169885  1.38697977  1.31193522  0.66973972  1.69580351 -1.35900472\n",
      " -0.27721685 -0.05060189 -0.41449736  0.20046812 -0.07020541  0.06080004\n",
      "  0.74880546 -0.55104633  1.11050912 -1.43796245  0.59739495  1.30964471\n",
      " -1.23192388 -0.01916086  0.37172378 -1.34940042  1.69380012  0.61344202\n",
      "  1.55571451  0.1254055   0.67034561 -0.75567318 -0.33191855  1.19625103\n",
      " -0.61077942  1.85596303 -0.18112916  0.79705871 -0.41843167  0.37597483\n",
      "  1.07880129 -0.07083034  0.08744525  0.6058716   1.30522607 -1.8912659\n",
      "  0.98467364  0.83687581  1.31280756  0.42077537]\n"
     ]
    }
   ],
   "source": [
    "print(y_pred)"
   ]
  },
  {
   "cell_type": "code",
   "execution_count": 45,
   "id": "d4c3af7e",
   "metadata": {},
   "outputs": [
    {
     "name": "stdout",
     "output_type": "stream",
     "text": [
      "Mean Square Error :  454.2736616380131\n"
     ]
    }
   ],
   "source": [
    "mse=mean_sq_error(y_test,y_pred)\n",
    "print(\"Mean Square Error : \",mse)"
   ]
  }
 ],
 "metadata": {
  "kernelspec": {
   "display_name": "Python 3 (ipykernel)",
   "language": "python",
   "name": "python3"
  },
  "language_info": {
   "codemirror_mode": {
    "name": "ipython",
    "version": 3
   },
   "file_extension": ".py",
   "mimetype": "text/x-python",
   "name": "python",
   "nbconvert_exporter": "python",
   "pygments_lexer": "ipython3",
   "version": "3.9.12"
  }
 },
 "nbformat": 4,
 "nbformat_minor": 5
}
